{
 "cells": [
  {
   "attachments": {},
   "cell_type": "markdown",
   "metadata": {
    "pycharm": {
     "name": "#%% md\n"
    }
   },
   "source": [
    "## Check the statistics of a specified dataset with default setting"
   ]
  },
  {
   "cell_type": "code",
   "execution_count": 1,
   "metadata": {
    "is_executing": true,
    "pycharm": {
     "name": "#%%\n"
    }
   },
   "outputs": [
    {
     "name": "stdout",
     "output_type": "stream",
     "text": [
      "/mnt/d/self_projects/databench/LETOR4/MQ2008/Fold1/train.txt\n",
      "/mnt/d/self_projects/databench/LETOR4/MQ2008/Fold1/vali.txt\n",
      "/mnt/d/self_projects/databench/LETOR4/MQ2008/Fold1/test.txt\n",
      "Dataset:\t MQ2008_Super\n",
      "Total queries:\t 564\n",
      "\tTrain: 339 Vali: 120 Test: 105\n"
     ]
    },
    {
     "ename": "IndexError",
     "evalue": "Dimension out of range (expected to be in range of [-1, 0], but got 1)",
     "output_type": "error",
     "traceback": [
      "\u001b[0;31m---------------------------------------------------------------------------\u001b[0m",
      "\u001b[0;31mIndexError\u001b[0m                                Traceback (most recent call last)",
      "Cell \u001b[0;32mIn[1], line 20\u001b[0m\n\u001b[1;32m     17\u001b[0m \u001b[39m''' Whether buffer the loaded dataset as numpy.tensor & PyTorch.tensor '''\u001b[39;00m\n\u001b[1;32m     18\u001b[0m buffer   \u001b[39m=\u001b[39m \u001b[39mFalse\u001b[39;00m\n\u001b[0;32m---> 20\u001b[0m check_dataset_statistics(data_id\u001b[39m=\u001b[39;49mdata_id, dir_data\u001b[39m=\u001b[39;49mdir_data, buffer\u001b[39m=\u001b[39;49mbuffer)\n",
      "File \u001b[0;32m/mnt/d/self_projects/ptranking/testing/data/testing_data_utils.py:164\u001b[0m, in \u001b[0;36mcheck_dataset_statistics\u001b[0;34m(data_id, dir_data, buffer)\u001b[0m\n\u001b[1;32m    161\u001b[0m \u001b[39mprint\u001b[39m(\u001b[39m'\u001b[39m\u001b[39mTotal queries:\u001b[39m\u001b[39m\\t\u001b[39;00m\u001b[39m'\u001b[39m, num_queries)\n\u001b[1;32m    162\u001b[0m \u001b[39mprint\u001b[39m(\u001b[39m'\u001b[39m\u001b[39m\\t\u001b[39;00m\u001b[39mTrain:\u001b[39m\u001b[39m'\u001b[39m, train_dataset\u001b[39m.\u001b[39m\u001b[39m__len__\u001b[39m(), \u001b[39m'\u001b[39m\u001b[39mVali:\u001b[39m\u001b[39m'\u001b[39m, vali_dataset\u001b[39m.\u001b[39m\u001b[39m__len__\u001b[39m(), \u001b[39m'\u001b[39m\u001b[39mTest:\u001b[39m\u001b[39m'\u001b[39m, test_dataset\u001b[39m.\u001b[39m\u001b[39m__len__\u001b[39m())\n\u001b[0;32m--> 164\u001b[0m num_docs \u001b[39m=\u001b[39m get_doc_num(train_dataset) \u001b[39m+\u001b[39m get_doc_num(vali_dataset) \u001b[39m+\u001b[39m get_doc_num(test_dataset)\n\u001b[1;32m    165\u001b[0m \u001b[39mprint\u001b[39m(\u001b[39m'\u001b[39m\u001b[39mTotal docs:\u001b[39m\u001b[39m\\t\u001b[39;00m\u001b[39m'\u001b[39m, num_docs)\n\u001b[1;32m    167\u001b[0m \u001b[39mif\u001b[39;00m data_id \u001b[39min\u001b[39;00m MSLETOR_SEMI:\n",
      "File \u001b[0;32m/mnt/d/self_projects/ptranking/testing/data/testing_data_utils.py:15\u001b[0m, in \u001b[0;36mget_doc_num\u001b[0;34m(dataset)\u001b[0m\n\u001b[1;32m     13\u001b[0m doc_num \u001b[39m=\u001b[39m \u001b[39m0\u001b[39m\n\u001b[1;32m     14\u001b[0m \u001b[39mfor\u001b[39;00m qid, torch_batch_rankings, torch_batch_std_labels \u001b[39min\u001b[39;00m dataset:\n\u001b[0;32m---> 15\u001b[0m     doc_num \u001b[39m+\u001b[39m\u001b[39m=\u001b[39m torch_batch_std_labels\u001b[39m.\u001b[39;49msize(\u001b[39m1\u001b[39;49m)\n\u001b[1;32m     17\u001b[0m \u001b[39mreturn\u001b[39;00m doc_num\n",
      "\u001b[0;31mIndexError\u001b[0m: Dimension out of range (expected to be in range of [-1, 0], but got 1)"
     ]
    }
   ],
   "source": [
    "import sys\n",
    "sys.path.insert(0, '/mnt/d/self_projects/ptranking/')\n",
    "\n",
    "from testing.data.testing_data_utils import check_dataset_statistics\n",
    "\n",
    "\"\"\" An example script \"\"\"\n",
    "\n",
    "''' The dataset identifier '''\n",
    "data_id  = 'MQ2008_Super'\n",
    "\n",
    "\n",
    "''' The directory of the above dataset '''\n",
    "# dir_data = '/Users/dryuhaitao/WorkBench/Corpus/LETOR4.0/MQ2007/'\n",
    "#dir_data = '/home/dl-box/WorkBench/Datasets/L2R/LETOR4.0/MQ2007/'\n",
    "dir_data = \"/mnt/d/self_projects/databench/LETOR4/MQ2008/\"\n",
    "\n",
    "''' Whether buffer the loaded dataset as numpy.tensor & PyTorch.tensor '''\n",
    "buffer   = False\n",
    "\n",
    "check_dataset_statistics(data_id=data_id, dir_data=dir_data, buffer=buffer)\n",
    "\n"
   ]
  },
  {
   "cell_type": "code",
   "execution_count": null,
   "metadata": {},
   "outputs": [],
   "source": []
  }
 ],
 "metadata": {
  "kernelspec": {
   "display_name": "Python 3 (ipykernel)",
   "language": "python",
   "name": "python3"
  },
  "language_info": {
   "codemirror_mode": {
    "name": "ipython",
    "version": 3
   },
   "file_extension": ".py",
   "mimetype": "text/x-python",
   "name": "python",
   "nbconvert_exporter": "python",
   "pygments_lexer": "ipython3",
   "version": "3.10.11"
  }
 },
 "nbformat": 4,
 "nbformat_minor": 1
}
