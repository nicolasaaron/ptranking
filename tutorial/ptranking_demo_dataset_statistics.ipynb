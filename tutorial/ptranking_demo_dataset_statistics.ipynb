{
 "cells": [
  {
   "attachments": {},
   "cell_type": "markdown",
   "metadata": {
    "pycharm": {
     "name": "#%% md\n"
    }
   },
   "source": [
    "## Check the statistics of a specified dataset with default setting"
   ]
  },
  {
   "cell_type": "code",
   "execution_count": 1,
   "metadata": {
    "is_executing": true,
    "pycharm": {
     "name": "#%%\n"
    }
   },
   "outputs": [
    {
     "ename": "ModuleNotFoundError",
     "evalue": "No module named 'testing'",
     "output_type": "error",
     "traceback": [
      "\u001B[0;31m---------------------------------------------------------------------------\u001B[0m",
      "\u001B[0;31mModuleNotFoundError\u001B[0m                       Traceback (most recent call last)",
      "Cell \u001B[0;32mIn[1], line 1\u001B[0m\n\u001B[0;32m----> 1\u001B[0m \u001B[39mfrom\u001B[39;00m \u001B[39mtesting\u001B[39;00m\u001B[39m.\u001B[39;00m\u001B[39mdata\u001B[39;00m\u001B[39m.\u001B[39;00m\u001B[39mtesting_data_utils\u001B[39;00m \u001B[39mimport\u001B[39;00m check_dataset_statistics\n\u001B[1;32m      3\u001B[0m \u001B[39m\"\"\" An example script \"\"\"\u001B[39;00m\n\u001B[1;32m      5\u001B[0m \u001B[39m''' The dataset identifier '''\u001B[39;00m\n",
      "\u001B[0;31mModuleNotFoundError\u001B[0m: No module named 'testing'"
     ]
    }
   ],
   "source": [
    "from testing.data.testing_data_utils import check_dataset_statistics\n",
    "\n",
    "\"\"\" An example script \"\"\"\n",
    "\n",
    "''' The dataset identifier '''\n",
    "data_id  = 'MQ2008_Super'\n",
    "\n",
    "\n",
    "''' The directory of the above dataset '''\n",
    "# dir_data = '/Users/dryuhaitao/WorkBench/Corpus/LETOR4.0/MQ2007/'\n",
    "#dir_data = '/home/dl-box/WorkBench/Datasets/L2R/LETOR4.0/MQ2007/'\n",
    "dir_data = \"/mnt/d/self_projects/databench/LETOR4/MQ2008/\"\n",
    "\n",
    "''' Whether buffer the loaded dataset as numpy.tensor & PyTorch.tensor '''\n",
    "buffer   = False\n",
    "\n",
    "check_dataset_statistics(data_id=data_id, dir_data=dir_data, buffer=buffer)\n",
    "\n"
   ]
  },
  {
   "cell_type": "code",
   "execution_count": null,
   "metadata": {},
   "outputs": [],
   "source": []
  }
 ],
 "metadata": {
  "kernelspec": {
   "display_name": "Python 3 (ipykernel)",
   "language": "python",
   "name": "python3"
  },
  "language_info": {
   "codemirror_mode": {
    "name": "ipython",
    "version": 3
   },
   "file_extension": ".py",
   "mimetype": "text/x-python",
   "name": "python",
   "nbconvert_exporter": "python",
   "pygments_lexer": "ipython3",
   "version": "3.10.11"
  }
 },
 "nbformat": 4,
 "nbformat_minor": 1
}
